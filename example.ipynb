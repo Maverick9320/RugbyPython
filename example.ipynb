{
 "cells": [
  {
   "cell_type": "code",
   "execution_count": 8,
   "id": "633f277c-85ad-4c23-aa4c-03e224f33808",
   "metadata": {},
   "outputs": [],
   "source": [
    "import matplotlib.pyplot as plt"
   ]
  },
  {
   "cell_type": "code",
   "execution_count": 9,
   "id": "699b5ae8-8d08-4959-a6dd-0e21c7f2b9f1",
   "metadata": {},
   "outputs": [],
   "source": [
    "class field():\n",
    "    def __init__(self):\n",
    "        #import the libraries and then create self variables so that all necessary imports are initialized only once\n",
    "        import matplotlib.pyplot as plt\n",
    "        from matplotlib.patches import Rectangle as rect\n",
    "        self.plt = plt\n",
    "        self.rect = rect\n",
    "        \n",
    "    \n",
    "    def union_pitch(self, pitch_color = 'white', line_color = 'Black', poles = False, linestyle = '-', line_alpha=1):\n",
    "        \n",
    "        #draw the rectangle that makes up the pitch and lies behind the field lines\n",
    "        ax.add_patch(self.rect((0, 0), 100, 70, fc = pitch_color, zorder=0))\n",
    "\n",
    "        #top & bottom lines\n",
    "        plt.hlines(0, 0, 100, line_color), plt.hlines(70, 0, 100, line_color)\n",
    "\n",
    "        #ends, half, 22s\n",
    "        for x in range(5):\n",
    "            c = [0, 22, 50, 78, 100]\n",
    "            plt.vlines(c[x], 0, 70, line_color)\n",
    "\n",
    "        #vertical and horizontal coordinates\n",
    "        vertical_lines = [(2, 8), (12, 18), (68, 62), (58, 52), (22, 31), (39, 48)]\n",
    "        horizontal_lines = [(47, 53), (37, 43), (57, 63), (19, 25), (75, 81), (5, 11), (95, 89)]\n",
    "        vertical_y, horizontal_y = [5, 40, 60, 95], [5, 15, 55, 65]\n",
    "\n",
    "        #lines\n",
    "        for x in range(6):\n",
    "            for y in range(4):\n",
    "                plt.vlines(vertical_y[y], vertical_lines[x][0], vertical_lines[x][1], line_color, linestyle, line_alpha)\n",
    "        for x in range(7):\n",
    "            for y in range(4):\n",
    "                plt.hlines(horizontal_y[y], horizontal_lines[x][0], horizontal_lines[x][1], line_color, linestyle, line_alpha)\n",
    "        \n",
    "        #if poles is true draw two thick rectangles at either end of the field\n",
    "        if poles is True:\n",
    "                plt.vlines(0, 30, 40, line_color, '-', alpha=1, linewidth=5)\n",
    "                plt.vlines(100, 30, 40, line_color, '-', alpha=1, linewidth=5)\n",
    "                \n",
    "    def league_pitch(self, pitch_color = 'white', line_color = 'Black', poles = False, line_style = '-', line_alpha=1):\n",
    "        \n",
    "        #draw the rectangle that makes up the pitch and lies behind the field lines\n",
    "        ax.add_patch(self.rect((0, 0), 100, 70, fc = pitch_color, zorder=0))\n",
    "\n",
    "        #top & bottom lines\n",
    "        plt.hlines(0, 0, 100, line_color), plt.hlines(70, 0, 100, line_color)\n",
    "        \n",
    "        #ends, half\n",
    "        for x in range(3):\n",
    "            c = [0, 50, 100]\n",
    "            plt.vlines(c[x], 0, 70, line_color)\n",
    "\n",
    "        #vertical and horizontal coordinates\n",
    "        for x in range(9):\n",
    "            plt.vlines(10*(x+1), 0, 70, color=line_color, linestyle=line_style, alpha=line_alpha)\n",
    "            \n",
    "        horizontal_y = [10, 20, 60, 50]\n",
    "        \n",
    "        for x in range(9):\n",
    "            for i in range(4):\n",
    "                plt.hlines(horizontal_y[i], 10*(x+1)-3, 10*(x+1)+3, color=line_color, linestyle=line_style, alpha=line_alpha)\n",
    "        \n",
    "        #if poles is true draw two thick rectangles at either end of the field\n",
    "        if poles == True:\n",
    "                plt.vlines(0, 30, 40, line_color, '-', alpha=1, linewidth=5)\n",
    "                plt.vlines(100, 30, 40, line_color, '-', alpha=1, linewidth=5)"
   ]
  },
  {
   "cell_type": "code",
   "execution_count": 10,
   "id": "65398daf-dc3a-441e-a2a0-5279c7ecde78",
   "metadata": {
    "tags": []
   },
   "outputs": [
    {
     "data": {
      "image/png": "[encoded data removed]",
      "text/plain": [
       "<Figure size 720x504 with 1 Axes>"
      ]
     },
     "metadata": {},
     "output_type": "display_data"
    }
   ],
   "source": [
    "plot=plt.figure(figsize=(10, 7))\n",
    "ax=plot.add_subplot()\n",
    "\n",
    "x = field()\n",
    "x.league_pitch(poles=True, pitch_color='white', line_color='black', line_style='-', line_alpha=0.75)  "
   ]
  },
  {
   "cell_type": "code",
   "execution_count": 11,
   "id": "aeec6dfd-49e1-48c7-90db-a35d25b92296",
   "metadata": {},
   "outputs": [
    {
     "data": {
      "image/png": "[encoded data removed]",
      "text/plain": [
       "<Figure size 720x504 with 1 Axes>"
      ]
     },
     "metadata": {},
     "output_type": "display_data"
    }
   ],
   "source": [
    "plot=plt.figure(figsize=(10, 7))\n",
    "ax=plot.add_subplot()\n",
    "\n",
    "x = field()\n",
    "x.union_pitch(poles=True, pitch_color='white', line_color='black')  "
   ]
  },
  {
   "cell_type": "code",
   "execution_count": null,
   "id": "55d7c569-e28f-4388-8235-6445b027bb50",
   "metadata": {},
   "outputs": [],
   "source": []
  }
 ],
 "metadata": {
  "kernelspec": {
   "display_name": "Python 3",
   "language": "python",
   "name": "python3"
  },
  "language_info": {
   "codemirror_mode": {
    "name": "ipython",
    "version": 3
   },
   "file_extension": ".py",
   "mimetype": "text/x-python",
   "name": "python",
   "nbconvert_exporter": "python",
   "pygments_lexer": "ipython3",
   "version": "3.8.8"
  }
 },
 "nbformat": 4,
 "nbformat_minor": 5
}
